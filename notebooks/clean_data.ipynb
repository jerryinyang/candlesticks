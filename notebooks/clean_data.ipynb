{
 "cells": [
  {
   "cell_type": "code",
   "execution_count": 1,
   "metadata": {},
   "outputs": [],
   "source": [
    "import pandas as pd\n",
    "from pathlib import Path"
   ]
  },
  {
   "cell_type": "code",
   "execution_count": 6,
   "metadata": {},
   "outputs": [
    {
     "data": {
      "text/plain": [
       "True"
      ]
     },
     "execution_count": 6,
     "metadata": {},
     "output_type": "execute_result"
    }
   ],
   "source": [
    "cwd = Path.cwd()\n",
    "\n",
    "filepath = cwd.parent / 'data/raw/usdcad.parquet'\n",
    "filepath.exists()"
   ]
  },
  {
   "cell_type": "code",
   "execution_count": 8,
   "metadata": {},
   "outputs": [
    {
     "data": {
      "text/html": [
       "<div>\n",
       "<style scoped>\n",
       "    .dataframe tbody tr th:only-of-type {\n",
       "        vertical-align: middle;\n",
       "    }\n",
       "\n",
       "    .dataframe tbody tr th {\n",
       "        vertical-align: top;\n",
       "    }\n",
       "\n",
       "    .dataframe thead th {\n",
       "        text-align: right;\n",
       "    }\n",
       "</style>\n",
       "<table border=\"1\" class=\"dataframe\">\n",
       "  <thead>\n",
       "    <tr style=\"text-align: right;\">\n",
       "      <th></th>\n",
       "      <th>time</th>\n",
       "      <th>open</th>\n",
       "      <th>high</th>\n",
       "      <th>low</th>\n",
       "      <th>close</th>\n",
       "      <th>volume</th>\n",
       "    </tr>\n",
       "  </thead>\n",
       "  <tbody>\n",
       "    <tr>\n",
       "      <th>0</th>\n",
       "      <td>2001-01-02 04:10:00</td>\n",
       "      <td>1.4973</td>\n",
       "      <td>1.4973</td>\n",
       "      <td>1.4973</td>\n",
       "      <td>1.4973</td>\n",
       "      <td>0</td>\n",
       "    </tr>\n",
       "    <tr>\n",
       "      <th>1</th>\n",
       "      <td>2001-01-02 04:19:00</td>\n",
       "      <td>1.4975</td>\n",
       "      <td>1.4975</td>\n",
       "      <td>1.4975</td>\n",
       "      <td>1.4975</td>\n",
       "      <td>0</td>\n",
       "    </tr>\n",
       "    <tr>\n",
       "      <th>2</th>\n",
       "      <td>2001-01-02 04:27:00</td>\n",
       "      <td>1.4973</td>\n",
       "      <td>1.4973</td>\n",
       "      <td>1.4973</td>\n",
       "      <td>1.4973</td>\n",
       "      <td>0</td>\n",
       "    </tr>\n",
       "    <tr>\n",
       "      <th>3</th>\n",
       "      <td>2001-01-02 04:30:00</td>\n",
       "      <td>1.4974</td>\n",
       "      <td>1.4975</td>\n",
       "      <td>1.4974</td>\n",
       "      <td>1.4975</td>\n",
       "      <td>0</td>\n",
       "    </tr>\n",
       "    <tr>\n",
       "      <th>4</th>\n",
       "      <td>2001-01-02 04:31:00</td>\n",
       "      <td>1.4973</td>\n",
       "      <td>1.4975</td>\n",
       "      <td>1.4973</td>\n",
       "      <td>1.4975</td>\n",
       "      <td>0</td>\n",
       "    </tr>\n",
       "  </tbody>\n",
       "</table>\n",
       "</div>"
      ],
      "text/plain": [
       "                 time    open    high     low   close  volume\n",
       "0 2001-01-02 04:10:00  1.4973  1.4973  1.4973  1.4973       0\n",
       "1 2001-01-02 04:19:00  1.4975  1.4975  1.4975  1.4975       0\n",
       "2 2001-01-02 04:27:00  1.4973  1.4973  1.4973  1.4973       0\n",
       "3 2001-01-02 04:30:00  1.4974  1.4975  1.4974  1.4975       0\n",
       "4 2001-01-02 04:31:00  1.4973  1.4975  1.4973  1.4975       0"
      ]
     },
     "execution_count": 8,
     "metadata": {},
     "output_type": "execute_result"
    }
   ],
   "source": [
    "df = pd.read_parquet(filepath)\n",
    "df.head()"
   ]
  }
 ],
 "metadata": {
  "kernelspec": {
   "display_name": "venv",
   "language": "python",
   "name": "python3"
  },
  "language_info": {
   "codemirror_mode": {
    "name": "ipython",
    "version": 3
   },
   "file_extension": ".py",
   "mimetype": "text/x-python",
   "name": "python",
   "nbconvert_exporter": "python",
   "pygments_lexer": "ipython3",
   "version": "3.12.0"
  }
 },
 "nbformat": 4,
 "nbformat_minor": 2
}
